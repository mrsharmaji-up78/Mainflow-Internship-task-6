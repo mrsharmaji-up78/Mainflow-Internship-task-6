{
 "cells": [
  {
   "cell_type": "code",
   "execution_count": null,
   "id": "ff2c9f94-9801-4148-9b0a-f09c7ca54435",
   "metadata": {},
   "outputs": [],
   "source": [
    "Task-6: Time Series Analysis "
   ]
  },
  {
   "cell_type": "code",
   "execution_count": null,
   "id": "c266f5e2-0906-49c6-a70d-942f06f6abd3",
   "metadata": {},
   "outputs": [],
   "source": [
    "Objective \n",
    "Analyze sales data over time and forecast future sales using statistical models."
   ]
  },
  {
   "cell_type": "code",
   "execution_count": null,
   "id": "d4bf6650-a95c-4211-9077-4700567c8b3d",
   "metadata": {},
   "outputs": [],
   "source": [
    "1. Dataset Selection \n",
    "● The dataset should include at least two columns: \n",
    "○ Date: The timestamp of the recorded sales. \n",
    "○ Sales: The number of units sold or revenue on that date. "
   ]
  },
  {
   "cell_type": "code",
   "execution_count": 3,
   "id": "92c47db2-2bb6-46c8-930c-9cda67e8bf98",
   "metadata": {},
   "outputs": [],
   "source": [
    "import pandas as pd\n",
    "import numpy as np\n",
    "import matplotlib.pyplot as plt\n",
    "from statsmodels.tsa.arima.model import ARIMA\n",
    "from sklearn.model_selection import train_test_split\n",
    "from sklearn.linear_model import LogisticRegression\n",
    "from sklearn.metrics import mean_squared_error, mean_absolute_percentage_error, confusion_matrix, accuracy_score, precision_score, recall_score, f1_score"
   ]
  },
  {
   "cell_type": "code",
   "execution_count": null,
   "id": "aca8b2d3-5157-4782-a4a7-5c9ddff59a62",
   "metadata": {},
   "outputs": [],
   "source": [
    "Sample Data Generation"
   ]
  },
  {
   "cell_type": "code",
   "execution_count": 5,
   "id": "f546b521-ecaf-43fd-b27d-ab19b2fffcef",
   "metadata": {},
   "outputs": [],
   "source": [
    "# Sample Sales Data\n",
    "df_sales = pd.DataFrame({\n",
    "    'Date': pd.date_range(start='2023-01-01', periods=10, freq='D'),\n",
    "    'Sales': [100, 120, 130, 150, 170, 200, 190, 210, 230, 240]\n",
    "})\n",
    "df_sales.to_csv('sales_data.csv', index=False)\n",
    "\n"
   ]
  },
  {
   "cell_type": "code",
   "execution_count": null,
   "id": "e73d69ce-e446-49f8-bf1f-af02a8d1853c",
   "metadata": {},
   "outputs": [],
   "source": [
    "# Sample Heart Disease Data\n",
    "df_heart = pd.DataFrame({\n",
    "    'Age': [45, 50, 60, 40, 55, 65, 35, 70, 48, 52],\n",
    "    'Gender': ['Male', 'Female', 'Male', 'Female', 'Male', 'Female', 'Male', 'Female', 'Male', 'Female'],\n",
    "    'Cholesterol': [220, 190, 250, 180, 210, 240, 160, 270, 200, 185],\n",
    "    'Blood Pressure': [140, 130, 160, 120, 150, 170, 110, 180, 135, 125],\n",
    "    'Heart Disease': [1, 0, 1, 0, 1, 1, 0, 1, 0, 0]\n",
    "})\n",
    "df_heart.to_csv('heart_disease.csv', index=False)"
   ]
  },
  {
   "cell_type": "code",
   "execution_count": null,
   "id": "34189ac4-1f77-482d-b2e8-cd6fbdfa06eb",
   "metadata": {},
   "outputs": [],
   "source": [
    "Task 1: Time Series Analysis "
   ]
  },
  {
   "cell_type": "code",
   "execution_count": 7,
   "id": "70b0945d-a81e-4443-95da-8a13c0ae196f",
   "metadata": {},
   "outputs": [],
   "source": [
    "# Load the dataset\n",
    "df_sales = pd.read_csv('sales_data.csv', parse_dates=['Date'], index_col='Date')\n",
    "df_sales.sort_index(inplace=True)"
   ]
  },
  {
   "cell_type": "code",
   "execution_count": 87,
   "id": "d792a7b5-eca1-4b54-bb10-4df9b57413a4",
   "metadata": {},
   "outputs": [
    {
     "data": {
      "text/html": [
       "<div>\n",
       "<style scoped>\n",
       "    .dataframe tbody tr th:only-of-type {\n",
       "        vertical-align: middle;\n",
       "    }\n",
       "\n",
       "    .dataframe tbody tr th {\n",
       "        vertical-align: top;\n",
       "    }\n",
       "\n",
       "    .dataframe thead th {\n",
       "        text-align: right;\n",
       "    }\n",
       "</style>\n",
       "<table border=\"1\" class=\"dataframe\">\n",
       "  <thead>\n",
       "    <tr style=\"text-align: right;\">\n",
       "      <th></th>\n",
       "      <th>Sales</th>\n",
       "      <th>Sales_diff</th>\n",
       "    </tr>\n",
       "  </thead>\n",
       "  <tbody>\n",
       "    <tr>\n",
       "      <th>2023-01-01</th>\n",
       "      <td>20.0</td>\n",
       "      <td>NaN</td>\n",
       "    </tr>\n",
       "    <tr>\n",
       "      <th>2023-01-02</th>\n",
       "      <td>20.0</td>\n",
       "      <td>20.0</td>\n",
       "    </tr>\n",
       "    <tr>\n",
       "      <th>2023-01-03</th>\n",
       "      <td>10.0</td>\n",
       "      <td>10.0</td>\n",
       "    </tr>\n",
       "    <tr>\n",
       "      <th>2023-01-04</th>\n",
       "      <td>20.0</td>\n",
       "      <td>20.0</td>\n",
       "    </tr>\n",
       "    <tr>\n",
       "      <th>2023-01-05</th>\n",
       "      <td>20.0</td>\n",
       "      <td>20.0</td>\n",
       "    </tr>\n",
       "    <tr>\n",
       "      <th>2023-01-06</th>\n",
       "      <td>30.0</td>\n",
       "      <td>30.0</td>\n",
       "    </tr>\n",
       "    <tr>\n",
       "      <th>2023-01-07</th>\n",
       "      <td>-10.0</td>\n",
       "      <td>-10.0</td>\n",
       "    </tr>\n",
       "    <tr>\n",
       "      <th>2023-01-08</th>\n",
       "      <td>20.0</td>\n",
       "      <td>20.0</td>\n",
       "    </tr>\n",
       "    <tr>\n",
       "      <th>2023-01-09</th>\n",
       "      <td>20.0</td>\n",
       "      <td>20.0</td>\n",
       "    </tr>\n",
       "    <tr>\n",
       "      <th>2023-01-10</th>\n",
       "      <td>10.0</td>\n",
       "      <td>10.0</td>\n",
       "    </tr>\n",
       "  </tbody>\n",
       "</table>\n",
       "</div>"
      ],
      "text/plain": [
       "            Sales  Sales_diff\n",
       "2023-01-01   20.0         NaN\n",
       "2023-01-02   20.0        20.0\n",
       "2023-01-03   10.0        10.0\n",
       "2023-01-04   20.0        20.0\n",
       "2023-01-05   20.0        20.0\n",
       "2023-01-06   30.0        30.0\n",
       "2023-01-07  -10.0       -10.0\n",
       "2023-01-08   20.0        20.0\n",
       "2023-01-09   20.0        20.0\n",
       "2023-01-10   10.0        10.0"
      ]
     },
     "execution_count": 87,
     "metadata": {},
     "output_type": "execute_result"
    }
   ],
   "source": [
    "df_sales"
   ]
  },
  {
   "cell_type": "code",
   "execution_count": null,
   "id": "20d82e64-4284-4787-8fd6-ab59ffd956e6",
   "metadata": {},
   "outputs": [],
   "source": [
    "2. Tasks to Perform"
   ]
  },
  {
   "cell_type": "code",
   "execution_count": 9,
   "id": "4cc2d8aa-b391-4224-a6f1-5aa0032a6a7d",
   "metadata": {},
   "outputs": [
    {
     "data": {
      "image/png": "[encoded data removed]",
      "text/plain": [
       "<Figure size 1000x600 with 1 Axes>"
      ]
     },
     "metadata": {},
     "output_type": "display_data"
    }
   ],
   "source": [
    "# Visualize sales trends\n",
    "plt.figure(figsize=(10, 6))\n",
    "plt.plot(df_sales['Sales'], label='Sales Data')\n",
    "plt.title('Sales Trend Over Time')\n",
    "plt.xlabel('Date')\n",
    "plt.ylabel('Sales')\n",
    "plt.legend()\n",
    "plt.show()\n"
   ]
  },
  {
   "cell_type": "code",
   "execution_count": 47,
   "id": "1a892c3b-de64-4f60-88f9-0e46e3f8dce2",
   "metadata": {},
   "outputs": [
    {
     "name": "stderr",
     "output_type": "stream",
     "text": [
      "F:\\Anaconda\\Lib\\site-packages\\statsmodels\\tsa\\statespace\\sarimax.py:966: UserWarning: Non-stationary starting autoregressive parameters found. Using zeros as starting parameters.\n",
      "  warn('Non-stationary starting autoregressive parameters'\n"
     ]
    }
   ],
   "source": [
    "# ARIMA Model\n",
    "model = ARIMA(df_sales['Sales'], order=(5, 1, 0), enforce_stationarity=True, enforce_invertibility=True)\n",
    "model_fit = model.fit()\n",
    "forecast = model_fit.forecast(steps=30)  # Forecast for 30 future days"
   ]
  },
  {
   "cell_type": "code",
   "execution_count": null,
   "id": "cb7b8431-5603-4d56-8b77-aaafb61912a1",
   "metadata": {},
   "outputs": [],
   "source": [
    "3. Deliverables"
   ]
  },
  {
   "cell_type": "code",
   "execution_count": 51,
   "id": "61a0b225-d254-460b-b4e2-8f42055bde17",
   "metadata": {},
   "outputs": [
    {
     "data": {
      "image/png": "[encoded data removed]",
      "text/plain": [
       "<Figure size 1000x600 with 1 Axes>"
      ]
     },
     "metadata": {},
     "output_type": "display_data"
    }
   ],
   "source": [
    "# Forecast plot\n",
    "plt.figure(figsize=(10, 6))\n",
    "plt.plot(df_sales['Sales'], label='Actual Sales')\n",
    "plt.plot(forecast, label='Forecasted Sales', color='red')\n",
    "plt.title('Sales Forecast vs Actual Sales')\n",
    "plt.legend()\n",
    "plt.show()"
   ]
  },
  {
   "cell_type": "code",
   "execution_count": 65,
   "id": "c06c6609-b645-4c23-9146-6edb91990600",
   "metadata": {},
   "outputs": [
    {
     "name": "stdout",
     "output_type": "stream",
     "text": [
      "RMSE: 11.83\n",
      "MAPE: 56.67%\n"
     ]
    },
    {
     "name": "stderr",
     "output_type": "stream",
     "text": [
      "C:\\Users\\Admin\\AppData\\Local\\Temp\\ipykernel_17248\\3357606286.py:2: FutureWarning: Series.fillna with 'method' is deprecated and will raise in a future version. Use obj.ffill() or obj.bfill() instead.\n",
      "  df_sales['Sales'].fillna(method='bfill', inplace=True)\n",
      "C:\\Users\\Admin\\AppData\\Local\\Temp\\ipykernel_17248\\3357606286.py:3: FutureWarning: Series.fillna with 'method' is deprecated and will raise in a future version. Use obj.ffill() or obj.bfill() instead.\n",
      "  df_sales['Sales'].fillna(method='ffill', inplace=True)\n"
     ]
    }
   ],
   "source": [
    "# Handle potential NaN values in the original dataset\n",
    "df_sales['Sales'].fillna(method='bfill', inplace=True)\n",
    "df_sales['Sales'].fillna(method='ffill', inplace=True)\n",
    "\n",
    "# Forecast adjustment for limited data\n",
    "forecast = model_fit.forecast(steps=len(df_sales))  # Forecast for available data size\n",
    "\n",
    "# Evaluation\n",
    "print(f'RMSE: {np.sqrt(mean_squared_error(df_sales['Sales'], forecast)):.2f}')\n",
    "print(f'MAPE: {mean_absolute_percentage_error(df_sales['Sales'], forecast):.2%}')\n",
    "\n"
   ]
  },
  {
   "cell_type": "code",
   "execution_count": null,
   "id": "67d518ca-c38e-4287-aa22-dbfdb22dce42",
   "metadata": {},
   "outputs": [],
   "source": [
    "Task 2: Heart Disease Prediction"
   ]
  },
  {
   "cell_type": "code",
   "execution_count": 83,
   "id": "854fd0e9-c26d-46d2-bda7-96736fa08521",
   "metadata": {},
   "outputs": [],
   "source": [
    "df_heart = pd.read_csv('heart_disease.csv')"
   ]
  },
  {
   "cell_type": "code",
   "execution_count": 85,
   "id": "de0db499-864f-43db-8fad-2579f4895af4",
   "metadata": {},
   "outputs": [
    {
     "data": {
      "text/html": [
       "<div>\n",
       "<style scoped>\n",
       "    .dataframe tbody tr th:only-of-type {\n",
       "        vertical-align: middle;\n",
       "    }\n",
       "\n",
       "    .dataframe tbody tr th {\n",
       "        vertical-align: top;\n",
       "    }\n",
       "\n",
       "    .dataframe thead th {\n",
       "        text-align: right;\n",
       "    }\n",
       "</style>\n",
       "<table border=\"1\" class=\"dataframe\">\n",
       "  <thead>\n",
       "    <tr style=\"text-align: right;\">\n",
       "      <th></th>\n",
       "      <th>Age</th>\n",
       "      <th>Gender</th>\n",
       "      <th>Cholesterol</th>\n",
       "      <th>Blood Pressure</th>\n",
       "      <th>Heart Disease</th>\n",
       "    </tr>\n",
       "  </thead>\n",
       "  <tbody>\n",
       "    <tr>\n",
       "      <th>0</th>\n",
       "      <td>45</td>\n",
       "      <td>Male</td>\n",
       "      <td>220</td>\n",
       "      <td>140</td>\n",
       "      <td>1</td>\n",
       "    </tr>\n",
       "    <tr>\n",
       "      <th>1</th>\n",
       "      <td>50</td>\n",
       "      <td>Female</td>\n",
       "      <td>190</td>\n",
       "      <td>130</td>\n",
       "      <td>0</td>\n",
       "    </tr>\n",
       "    <tr>\n",
       "      <th>2</th>\n",
       "      <td>60</td>\n",
       "      <td>Male</td>\n",
       "      <td>250</td>\n",
       "      <td>160</td>\n",
       "      <td>1</td>\n",
       "    </tr>\n",
       "    <tr>\n",
       "      <th>3</th>\n",
       "      <td>40</td>\n",
       "      <td>Female</td>\n",
       "      <td>180</td>\n",
       "      <td>120</td>\n",
       "      <td>0</td>\n",
       "    </tr>\n",
       "    <tr>\n",
       "      <th>4</th>\n",
       "      <td>55</td>\n",
       "      <td>Male</td>\n",
       "      <td>210</td>\n",
       "      <td>150</td>\n",
       "      <td>1</td>\n",
       "    </tr>\n",
       "    <tr>\n",
       "      <th>5</th>\n",
       "      <td>65</td>\n",
       "      <td>Female</td>\n",
       "      <td>240</td>\n",
       "      <td>170</td>\n",
       "      <td>1</td>\n",
       "    </tr>\n",
       "    <tr>\n",
       "      <th>6</th>\n",
       "      <td>35</td>\n",
       "      <td>Male</td>\n",
       "      <td>160</td>\n",
       "      <td>110</td>\n",
       "      <td>0</td>\n",
       "    </tr>\n",
       "    <tr>\n",
       "      <th>7</th>\n",
       "      <td>70</td>\n",
       "      <td>Female</td>\n",
       "      <td>270</td>\n",
       "      <td>180</td>\n",
       "      <td>1</td>\n",
       "    </tr>\n",
       "    <tr>\n",
       "      <th>8</th>\n",
       "      <td>48</td>\n",
       "      <td>Male</td>\n",
       "      <td>200</td>\n",
       "      <td>135</td>\n",
       "      <td>0</td>\n",
       "    </tr>\n",
       "    <tr>\n",
       "      <th>9</th>\n",
       "      <td>52</td>\n",
       "      <td>Female</td>\n",
       "      <td>185</td>\n",
       "      <td>125</td>\n",
       "      <td>0</td>\n",
       "    </tr>\n",
       "  </tbody>\n",
       "</table>\n",
       "</div>"
      ],
      "text/plain": [
       "   Age  Gender  Cholesterol  Blood Pressure  Heart Disease\n",
       "0   45    Male          220             140              1\n",
       "1   50  Female          190             130              0\n",
       "2   60    Male          250             160              1\n",
       "3   40  Female          180             120              0\n",
       "4   55    Male          210             150              1\n",
       "5   65  Female          240             170              1\n",
       "6   35    Male          160             110              0\n",
       "7   70  Female          270             180              1\n",
       "8   48    Male          200             135              0\n",
       "9   52  Female          185             125              0"
      ]
     },
     "execution_count": 85,
     "metadata": {},
     "output_type": "execute_result"
    }
   ],
   "source": [
    "df_heart"
   ]
  },
  {
   "cell_type": "code",
   "execution_count": 69,
   "id": "ab57efa6-0a7d-49f5-ace8-bfd9d94c5919",
   "metadata": {},
   "outputs": [],
   "source": [
    "# Data Cleaning\n",
    "df_heart.dropna(inplace=True)\n",
    "df_heart.drop_duplicates(inplace=True)"
   ]
  },
  {
   "cell_type": "code",
   "execution_count": 71,
   "id": "7eef05a5-603c-409f-b3c6-f17d06aff649",
   "metadata": {},
   "outputs": [],
   "source": [
    "# Feature Engineering\n",
    "features = ['Age', 'Cholesterol', 'Blood Pressure']\n",
    "df_heart[features] = (df_heart[features] - df_heart[features].mean()) / df_heart[features].std()"
   ]
  },
  {
   "cell_type": "code",
   "execution_count": 73,
   "id": "0495b7fe-b9a7-4b07-b870-dde51485a672",
   "metadata": {},
   "outputs": [],
   "source": [
    "# Train-Test Split\n",
    "X = df_heart.drop('Heart Disease', axis=1)\n",
    "y = df_heart['Heart Disease']\n",
    "X_train, X_test, y_train, y_test = train_test_split(X, y, test_size=0.3, random_state=42)"
   ]
  },
  {
   "cell_type": "code",
   "execution_count": 79,
   "id": "69e89747-802f-4741-b0a8-853ea9c5fac2",
   "metadata": {},
   "outputs": [
    {
     "name": "stdout",
     "output_type": "stream",
     "text": [
      "Accuracy: 0.6666666666666666\n",
      "Precision: 0.5\n",
      "Recall: 1.0\n",
      "F1 Score: 0.6666666666666666\n",
      "Confusion Matrix:\n",
      " [[1 1]\n",
      " [0 1]]\n"
     ]
    }
   ],
   "source": [
    "# Encode 'Gender' Column\n",
    "df_heart['Gender'] = df_heart['Gender'].map({'Male': 0, 'Female': 1})\n",
    "\n",
    "# Train-Test Split\n",
    "X = df_heart.drop('Heart Disease', axis=1)\n",
    "y = df_heart['Heart Disease']\n",
    "X_train, X_test, y_train, y_test = train_test_split(X, y, test_size=0.3, random_state=42)\n",
    "\n",
    "# Logistic Regression Model\n",
    "model_lr = LogisticRegression()\n",
    "model_lr.fit(X_train, y_train)\n",
    "y_pred = model_lr.predict(X_test)\n",
    "\n",
    "# Model Evaluation\n",
    "print(\"Accuracy:\", accuracy_score(y_test, y_pred))\n",
    "print(\"Precision:\", precision_score(y_test, y_pred))\n",
    "print(\"Recall:\", recall_score(y_test, y_pred))\n",
    "print(\"F1 Score:\", f1_score(y_test, y_pred))\n",
    "print(\"Confusion Matrix:\\n\", confusion_matrix(y_test, y_pred))\n"
   ]
  },
  {
   "cell_type": "code",
   "execution_count": 81,
   "id": "af86a81f-8eed-48ab-b0b0-cbc778c1b12b",
   "metadata": {},
   "outputs": [
    {
     "name": "stdout",
     "output_type": "stream",
     "text": [
      "Accuracy: 0.6666666666666666\n",
      "Precision: 0.5\n",
      "Recall: 1.0\n",
      "F1 Score: 0.6666666666666666\n",
      "Confusion Matrix:\n",
      " [[1 1]\n",
      " [0 1]]\n"
     ]
    }
   ],
   "source": [
    "# Model Evaluation\n",
    "print(\"Accuracy:\", accuracy_score(y_test, y_pred))\n",
    "print(\"Precision:\", precision_score(y_test, y_pred))\n",
    "print(\"Recall:\", recall_score(y_test, y_pred))\n",
    "print(\"F1 Score:\", f1_score(y_test, y_pred))\n",
    "print(\"Confusion Matrix:\\n\", confusion_matrix(y_test, y_pred))\n"
   ]
  },
  {
   "cell_type": "code",
   "execution_count": null,
   "id": "5c825f23-ca5b-4cca-8c6c-e5b21ac0afe6",
   "metadata": {},
   "outputs": [],
   "source": []
  }
 ],
 "metadata": {
  "kernelspec": {
   "display_name": "Python [conda env:base] *",
   "language": "python",
   "name": "conda-base-py"
  },
  "language_info": {
   "codemirror_mode": {
    "name": "ipython",
    "version": 3
   },
   "file_extension": ".py",
   "mimetype": "text/x-python",
   "name": "python",
   "nbconvert_exporter": "python",
   "pygments_lexer": "ipython3",
   "version": "3.12.7"
  }
 },
 "nbformat": 4,
 "nbformat_minor": 5
}
